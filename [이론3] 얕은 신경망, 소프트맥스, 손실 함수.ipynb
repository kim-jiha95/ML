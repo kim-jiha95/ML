{
 "cells": [
  {
   "cell_type": "markdown",
   "metadata": {
    "id": "PAtykGq63vus"
   },
   "source": [
    "# [이론3] 얕은 신경망, 소프트맥스, 손실 함수"
   ]
  },
  {
   "cell_type": "markdown",
   "metadata": {
    "id": "58zar6q34dPN"
   },
   "source": [
    "\n",
    "---"
   ]
  },
  {
   "cell_type": "markdown",
   "metadata": {
    "id": "mn0DQI8F3969"
   },
   "source": [
    "## 학습 목표\n",
    "\n",
    "- 신경망의 기본 구조를 이해한다.\n",
    "- 손실 함수를 이용한 학습 방법을 이해한다.\n",
    "- 소프트맥스 함수의 확률적 특성을 이해한다.\n"
   ]
  },
  {
   "cell_type": "markdown",
   "metadata": {
    "id": "_h5nDWi34hZR"
   },
   "source": [
    "---"
   ]
  },
  {
   "cell_type": "markdown",
   "metadata": {
    "id": "j1Z8AIEq4kAi"
   },
   "source": [
    "## 목차"
   ]
  },
  {
   "cell_type": "markdown",
   "metadata": {
    "id": "5C-wsGHR5oXo"
   },
   "source": [
    "### [이론3] 얕은 신경망, 소프트맥스, 손실 함수\n",
    "\n",
    "1. 얕은 신경망(Shallow Neural Network)\n",
    "1. 소프트맥스(Softmax)와 항등함수\n",
    "1. 손실 함수\n"
   ]
  },
  {
   "cell_type": "markdown",
   "metadata": {
    "id": "Nl-gLSRd6WGh"
   },
   "source": [
    "---"
   ]
  },
  {
   "cell_type": "markdown",
   "metadata": {
    "id": "297_iPo76XDR"
   },
   "source": [
    "## [이론3] 얕은 신경망, 소프트맥스, 손실함수"
   ]
  },
  {
   "cell_type": "markdown",
   "metadata": {
    "id": "Gye3ciujACYh"
   },
   "source": [
    "### 1. 얕은 신경망(Shallow Neural Network)"
   ]
  },
  {
   "cell_type": "markdown",
   "metadata": {
    "id": "2KFhBUzj6cF8"
   },
   "source": [
    "#### 간단한 신경망의 구성\n",
    "\n",
    "간단한 신경망의 구성은 다음과 같습니다.     \n",
    "입력층으로 들어온 신호들이 은닉층을 통해서 출력층으로 나가게 됩니다.     \n",
    "이때 입력층으로 들어오는 신호들의 개수와 첫 번째 은닉층의 노드의 개수를 곱한 크기만큼의 변수의 개수가 $W_{0}$에 할당됩니다.   \n",
    "\n",
    "\n",
    "<center>\n",
    "<img src=\"img/1-3-1.png\" width=\"40%\" height=\"40%\"></img>\n",
    "<!-- <img src=\"https://github.com/MLBasic/EllisMLI/raw/master/L1_3/img/1-3-1.png\" width=\"50%\" height=\"50%\"></img> -->\n",
    "</center>\n",
    "\n",
    "우선 입력층에서 은닉층으로 넘어가는 과정만 살펴보겠습니다.     \n",
    "여기에 사용되는 변수는 $W_0$와 $b_0$입니다.\n",
    "\n",
    "##### 신경망 수식\n",
    "\n",
    ">$$\n",
    "V_{0(0)} = W_{0(0,0)} x_0 + W_{0(0,1)} x_1 + W_{0(0,2)} x_2 + b_{0(0)} \\\\\n",
    "V_{0(1)} = W_{0(1,0)} x_0 + W_{0(1,1)} x_1 + W_{0(1,2)} x_2 + b_{0(1)} \\\\\n",
    "V_{0(2)} = W_{0(2,0)} x_0 + W_{0(2,1)} x_1 + W_{0(1,1)} x_2 + b_{0(2)} \n",
    "$$\n",
    "\n",
    "위를 행렬식으로 표현하면 다음과 같습니다.\n",
    "\n",
    ">$$\n",
    "\\begin{bmatrix}\n",
    "V_{0(0)} \\\\\n",
    "V_{0(1)} \\\\\n",
    "V_{0(2)} \n",
    "\\end{bmatrix}\n",
    "=\n",
    "\\begin{bmatrix}\n",
    "W_{0(0,0)} & W_{0(0,1)} & W_{0(0,2)}\\\\\n",
    "W_{0(1,0)} & W_{0(1,1)} & W_{0(1,2)}\\\\\n",
    "W_{0(2,0)} & W_{0(2,1)} & W_{0(2,2)}\n",
    "\\end{bmatrix}\n",
    "\\begin{bmatrix}\n",
    "x_{0} \\\\\n",
    "x_{1} \\\\\n",
    "x_{2} \n",
    "\\end{bmatrix}\n",
    "+\n",
    "\\begin{bmatrix}\n",
    "b_{0(0)} \\\\\n",
    "b_{0(1)} \\\\\n",
    "b_{0(2)} \n",
    "\\end{bmatrix}\n",
    "\\\\[30pt]\n",
    "$$\n",
    "\n",
    ">$$\n",
    "V_0 = W_0 X + b_0\n",
    "$$\n",
    "\n",
    "\n",
    "\n"
   ]
  },
  {
   "cell_type": "markdown",
   "metadata": {
    "id": "sP8_EH8g4YLd"
   },
   "source": [
    "프로그래밍을 위해 행과 열을 바꾸면 다음과 같습니다.\n",
    "\n",
    "\n",
    ">$$\n",
    "\\begin{bmatrix}\n",
    "V_{0(0)} \\;\\; V_{0(1)} \\;\\; V_{0(2)} \n",
    "\\end{bmatrix}\n",
    "=\n",
    "\\begin{bmatrix}\n",
    "x_{0}  \\;\\; x_{1}  \\;\\; x_{2} \n",
    "\\end{bmatrix}\n",
    "\\begin{bmatrix}\n",
    "W_{0(0,0)} & W_{0(1,0)} & W_{0(2,0)}\\\\\n",
    "W_{0(0,1)} & W_{0(1,1)} & W_{0(2,1)}\\\\\n",
    "W_{0(0,2)} & W_{0(1,2)} & W_{0(2,2)}\n",
    "\\end{bmatrix}\n",
    "+\n",
    "\\begin{bmatrix}\n",
    "b_{0(0)} \\;\\; b_{0(1)} \\;\\; b_{0(2)} \n",
    "\\end{bmatrix}\n",
    "\\\\[30pt]\n",
    "$$\n",
    "\n",
    ">$$\n",
    "V_0^T = X^T \\cdot W_0^T + b_0^T\n",
    "$$\n",
    "\n",
    "편의상 전치행렬의 T를 제거하고 다음과 같이 쓰기로 합니다.\n",
    "\n",
    ">$$\n",
    "V_0 = X \\cdot W_0 + b_0\n",
    "$$\n"
   ]
  },
  {
   "cell_type": "markdown",
   "metadata": {
    "id": "SPc3t_1qIx_Y"
   },
   "source": [
    "은닉층 노드에 들어온 값은 다시 활성 함수를 거치면서 변환(transform)됩니다. 이렇게 변환된 값이 다시 $w_1$, $b_1$과 선형결합되어 출력층에 도달하게 됩니다.   \n",
    "\n",
    ">$$\n",
    "V_0 = X \\cdot W_0 + b_0  \\\\[10pt]\n",
    "H_0 = f(V_0) \\\\[10pt]\n",
    "Y   = H_0 \\cdot W_1 + b_1  \\\\[10pt]\n",
    "$$\n"
   ]
  },
  {
   "cell_type": "markdown",
   "metadata": {
    "id": "UlkrtLK7AKkT"
   },
   "source": [
    "\n",
    "\n",
    "신경망 출력층의 노드 숫자는 분류하고 싶은 클래스로 설정하는 것이 일반적입니다.   \n",
    "irsi 데이터 세트를 사용해서 3종류의 붓 꽂은 분류하는 신경망을 만든다면 출력층에 3개의 노드를 두면 됩니다.   \n",
    "MNIST 데이터 세트를 사용해서 10종류의 숫자를 분류하는 신경망이라면 10개의 노드를 가진 신경망을 만들면 됩니다.   \n",
    "\n",
    "입력 노드의 수는 들어오는 신호의 크기와 같이하고 출력 노드의 수는 분류하고 싶은 클래스의 숫자로 설정합니다.\n",
    "\n",
    "10개 혹은 3개의 출력 노드를 둔다면 이때 개별 노드에 들어오는 출력값을 시그모이드나 ReLU와는 다른 소프트맥스(Softmax)라는 출력 전용 활성 함수를 사용합니다.   \n",
    "소프트맥스는 활성 함수이지만 마지막 출력 단계에서만 사용됩니다. 은닉층에서는 사용되지 않습니다.\n",
    "\n"
   ]
  },
  {
   "cell_type": "markdown",
   "metadata": {
    "id": "zyLjLA8suKxe"
   },
   "source": [
    "#### 3층 신경망의 구성\n",
    "\n"
   ]
  },
  {
   "cell_type": "markdown",
   "metadata": {
    "id": "PIOZ_toFW4M_"
   },
   "source": [
    "<center>\n",
    "<img src=\"img/1-3-2.png\" width=\"60%\"></img>\n",
    "<!-- <img src=\"https://github.com/MLBasic/EllisMLI/raw/master/L1_3/img/1-3-2.png\" width=\"60%\" height=\"60%\"></img> -->\n",
    "</center> \n",
    "\n",
    "\n"
   ]
  },
  {
   "cell_type": "markdown",
   "metadata": {
    "id": "qkikX7lp7UTy"
   },
   "source": [
    "3층 신경망은 얕은 신경망에서 은닉층이 하나 더 늘어난 형태입니다.   \n",
    "3층 신경망의 구조는 다음과 같습니다.   \n",
    "`f()`는 ReLU등의 활성 함수이고, `g()`는 항등함수 혹은 소프트맥스 함수입니다.   \n",
    "앞에서 시작해서 뒤로 순차적으로 전진해 나가는 과정이므로 '순 전파'라고 부릅니다.    \n",
    "\n",
    ">$$\n",
    "\\begin{aligned}\n",
    "&Step \\; 1 : V_0 = X \\cdot W_0 + b_0  \\\\[10pt]\n",
    "&Step \\; 2 : H_0 = f(V_0) \\\\[10pt]\n",
    "&Step \\; 3 : V_1 = H_0 \\cdot W_1 + b_1  \\\\[10pt]\n",
    "&Step \\; 4 : H_1 = f(V_1) \\\\[10pt]\n",
    "&Step \\; 5 : V_1 = H_1 \\cdot W_2 + b_2  \\\\[10pt]\n",
    "&Step \\; 6 : Y   = g(V_1) \\\\[10pt]\n",
    "\\end{aligned}\n",
    "$$\n"
   ]
  },
  {
   "cell_type": "markdown",
   "metadata": {
    "id": "10zugPaN9KtP"
   },
   "source": [
    "#### 변수의 크기\n",
    "\n",
    "변수 W의 크기는 입력 노드와 출력 노드의 개수를 곱한 것과 같고, 변수 b의 크기는 출력 노드의 개수와 같습니다.     \n",
    "$W_0$의 크기는 2 $\\cdot$ 3인 6이 되고, $b_0$의 크기는 3입니다."
   ]
  },
  {
   "cell_type": "markdown",
   "metadata": {
    "id": "pwD9kB3K-uwI"
   },
   "source": [
    "#### 3층 신경망 구현\n",
    "\n",
    "지금까지 학습한 내용을 기반으로 간단한 3층 신경망을 구현해 보겠습니다.     \n",
    "입력층부터 출력층까지 순서대로 흘러가는 구조를 프로그래밍해 보겠습니다."
   ]
  },
  {
   "cell_type": "markdown",
   "metadata": {
    "id": "oXaPxLRqFjmk"
   },
   "source": [
    "`init_bw()` 함수는 `입력층, 은닉층 1, 은닉층 2, 출력층`의 4개 값의 가지고 W와 b를 랜덤한 숫자로 초기화합니다. "
   ]
  },
  {
   "cell_type": "code",
   "execution_count": 1,
   "metadata": {
    "executionInfo": {
     "elapsed": 960,
     "status": "ok",
     "timestamp": 1610072016191,
     "user": {
      "displayName": "처음코딩",
      "photoUrl": "https://lh3.googleusercontent.com/a-/AOh14GiTksPVKuVykyjKuchfwZ5dp6S489PBRL-Hy9FNzgo=s64",
      "userId": "04668354466670757110"
     },
     "user_tz": -540
    },
    "id": "Nut6i1er-hNN"
   },
   "outputs": [],
   "source": [
    "import numpy as np\n",
    "\n",
    "def init_bw(layer_x, layer_h0, layer_h1, layer_y):   # [입력층, 은닉층1, 은닉층2, 출력층] 노드의 숫자\n",
    "    matrix_nn = {}    # {'B0':[0,0,0,...], 'B1':[...], 'B2':[...] ,\n",
    "                      #  'W0':[[0,0,0...],[0,0,0...],...], 'W1':[[..],[..],..], 'W2':[[..],[..],..]}\n",
    "    matrix_nn = dict(B0=np.random.rand(layer_h0), \n",
    "                     B1=np.random.rand(layer_h1), \n",
    "                     B2=np.random.rand(layer_y),\n",
    "                     W0=np.random.rand(layer_x,layer_h0), \n",
    "                     W1=np.random.rand(layer_h0,layer_h1), \n",
    "                     W2=np.random.rand(layer_h1,layer_y))    \n",
    "    return matrix_nn \n"
   ]
  },
  {
   "cell_type": "markdown",
   "metadata": {
    "id": "TphlTX5sGFtP"
   },
   "source": [
    "신경망에서 사용할 활성 함수인 시그모이드와 ReLU입니다."
   ]
  },
  {
   "cell_type": "code",
   "execution_count": 3,
   "metadata": {
    "executionInfo": {
     "elapsed": 950,
     "status": "ok",
     "timestamp": 1610072016193,
     "user": {
      "displayName": "처음코딩",
      "photoUrl": "https://lh3.googleusercontent.com/a-/AOh14GiTksPVKuVykyjKuchfwZ5dp6S489PBRL-Hy9FNzgo=s64",
      "userId": "04668354466670757110"
     },
     "user_tz": -540
    },
    "id": "y0RpK6hxGE4F"
   },
   "outputs": [
    {
     "name": "stdout",
     "output_type": "stream",
     "text": [
      "relu_if(x): 0\n"
     ]
    }
   ],
   "source": [
    "# 활성 함수\n",
    "def sigmoid(x):\n",
    "    return 1 / (1+np.exp(-x))\n",
    "\n",
    "def relu(x):\n",
    "    return np.maximum(0, x)\n",
    "\n",
    "def relu_if(x):\n",
    "    if x <=0:\n",
    "        h = 0\n",
    "    else:\n",
    "        h = x\n",
    "    return h\n",
    "\n",
    "x = -3\n",
    "print('relu_if(x):', relu_if(x))"
   ]
  },
  {
   "cell_type": "markdown",
   "metadata": {
    "id": "pi6ujn_0F9I7"
   },
   "source": [
    "`forward()`함수는 초기화된 W, b 값과 입력값인 x를 이용해서 출력 y를 만듭니다."
   ]
  },
  {
   "cell_type": "code",
   "execution_count": 3,
   "metadata": {
    "executionInfo": {
     "elapsed": 946,
     "status": "ok",
     "timestamp": 1610072016195,
     "user": {
      "displayName": "처음코딩",
      "photoUrl": "https://lh3.googleusercontent.com/a-/AOh14GiTksPVKuVykyjKuchfwZ5dp6S489PBRL-Hy9FNzgo=s64",
      "userId": "04668354466670757110"
     },
     "user_tz": -540
    },
    "id": "FqniTDttBX1s"
   },
   "outputs": [],
   "source": [
    "def forward(nn, x, actFunc):\n",
    "    b0, b1, b2 = nn['B0'], nn['B1'], nn['B2']\n",
    "    W0, W1, W2 = nn['W0'], nn['W1'], nn['W2']\n",
    "\n",
    "    V0 = np.dot(x, W0) + b0\n",
    "    H0 = actFunc(V0)\n",
    "    V1 = np.dot(H0, W1) + b1\n",
    "    H1 = actFunc(V1)\n",
    "    Y = np.dot(H1, W2) + b2\n",
    "    \n",
    "    Y = V2\n",
    "\n",
    "    return Y \n"
   ]
  },
  {
   "cell_type": "markdown",
   "metadata": {
    "id": "o-3CLr0OGlH5"
   },
   "source": [
    "활성 함수 중 `relu`를 사용해서 3층 신경망을 순서대로 작동 시켜 보겠습니다.    \n",
    "아래에서 `relu`대신 `sigmoid`를 사용할 수 있습니다."
   ]
  },
  {
   "cell_type": "code",
   "execution_count": 4,
   "metadata": {
    "colab": {
     "base_uri": "https://localhost:8080/"
    },
    "executionInfo": {
     "elapsed": 925,
     "status": "ok",
     "timestamp": 1610072016196,
     "user": {
      "displayName": "처음코딩",
      "photoUrl": "https://lh3.googleusercontent.com/a-/AOh14GiTksPVKuVykyjKuchfwZ5dp6S489PBRL-Hy9FNzgo=s64",
      "userId": "04668354466670757110"
     },
     "user_tz": -540
    },
    "id": "KQKTk0ogC3w4",
    "outputId": "77817911-b089-4a81-b8e1-6427488132a1"
   },
   "outputs": [
    {
     "name": "stdout",
     "output_type": "stream",
     "text": [
      "[1.68500599 1.28370403]\n"
     ]
    }
   ],
   "source": [
    "x = np.array([7.0, 2.5])\n",
    "\n",
    "nn = init_bw(2, 3, 3, 2)\n",
    "y_nn = forward(nn, x, sigmoid)\n",
    "\n",
    "print(y_nn)"
   ]
  },
  {
   "cell_type": "markdown",
   "metadata": {
    "id": "RpahanplHCv2"
   },
   "source": [
    "#### 텐서플로를 이용한 신경망 구성\n",
    "\n",
    "신경망을 이해하기 위해 기초적인 코드를 짧게 구성해 보았습니다.    \n",
    "실무에서 신경망을 사용할 때는 위에서 만드는 것처럼 직접 코드를 만들어서 사용하지는 않습니다.\n",
    "기본적으로 이미 잘 만들어져 있는 머신 러닝용 라이브러리를 사용하게 됩니다.\n",
    "\n",
    "여기서는 텐서플로를 사용한 간단한 신경망을 구성해 보겠습니다.    \n",
    "입력층과 출력층 외에 두 개의 은닉층을 가지도록 신경망을 구성하겠습니다.\n",
    "입력으로 들어오는 것은 MNIST 데이터 세트로 28x28 크기의 이미지 파일 6만 장과 1만 장으로 이루어진 손글씨 숫자 데이터입니다.\n"
   ]
  },
  {
   "cell_type": "code",
   "execution_count": 5,
   "metadata": {
    "colab": {
     "base_uri": "https://localhost:8080/"
    },
    "executionInfo": {
     "elapsed": 3274,
     "status": "ok",
     "timestamp": 1610072018553,
     "user": {
      "displayName": "처음코딩",
      "photoUrl": "https://lh3.googleusercontent.com/a-/AOh14GiTksPVKuVykyjKuchfwZ5dp6S489PBRL-Hy9FNzgo=s64",
      "userId": "04668354466670757110"
     },
     "user_tz": -540
    },
    "id": "5OFffsQ2H2PJ",
    "outputId": "b3868ccc-320f-4856-f41f-e1e6357e0721"
   },
   "outputs": [
    {
     "name": "stdout",
     "output_type": "stream",
     "text": [
      "Downloading data from https://storage.googleapis.com/tensorflow/tf-keras-datasets/mnist.npz\n",
      "11493376/11490434 [==============================] - 0s 0us/step\n"
     ]
    }
   ],
   "source": [
    "import tensorflow as tf\n",
    "mnist = tf.keras.datasets.mnist\n",
    "(x_train, y_train),(x_test, y_test) = mnist.load_data()"
   ]
  },
  {
   "cell_type": "markdown",
   "metadata": {
    "id": "unQwpQOHIMJU"
   },
   "source": [
    "텐서플로에서 mnist 데이터 세트를 가져왔습니다."
   ]
  },
  {
   "cell_type": "code",
   "execution_count": 6,
   "metadata": {
    "executionInfo": {
     "elapsed": 3618,
     "status": "ok",
     "timestamp": 1610072018899,
     "user": {
      "displayName": "처음코딩",
      "photoUrl": "https://lh3.googleusercontent.com/a-/AOh14GiTksPVKuVykyjKuchfwZ5dp6S489PBRL-Hy9FNzgo=s64",
      "userId": "04668354466670757110"
     },
     "user_tz": -540
    },
    "id": "rY8KAQ9jITW4"
   },
   "outputs": [],
   "source": [
    "x_train, x_test = x_train / 255.0, x_test / 255.0"
   ]
  },
  {
   "cell_type": "markdown",
   "metadata": {
    "id": "81u9FNp8IdCM"
   },
   "source": [
    "MNIST 이미지는 0에서 255사이의 정수로 되어 있습니다. 이것을 255로 나누어 0에서 1사이의 실수로 변환합니다."
   ]
  },
  {
   "cell_type": "code",
   "execution_count": 7,
   "metadata": {
    "executionInfo": {
     "elapsed": 3958,
     "status": "ok",
     "timestamp": 1610072019241,
     "user": {
      "displayName": "처음코딩",
      "photoUrl": "https://lh3.googleusercontent.com/a-/AOh14GiTksPVKuVykyjKuchfwZ5dp6S489PBRL-Hy9FNzgo=s64",
      "userId": "04668354466670757110"
     },
     "user_tz": -540
    },
    "id": "TsCSBu1_Io1F"
   },
   "outputs": [],
   "source": [
    "model = tf.keras.models.Sequential([\n",
    "  tf.keras.layers.Flatten(input_shape=(28, 28)),\n",
    "  tf.keras.layers.Dense(64, activation='relu'),\n",
    "  tf.keras.layers.Dense(32, activation='relu'),\n",
    "  tf.keras.layers.Dense(10, activation='softmax')\n",
    "]) "
   ]
  },
  {
   "cell_type": "markdown",
   "metadata": {
    "id": "28d5s07-Itv_"
   },
   "source": [
    "`Sequential()`을 사용해서 모델의 만들어 줍니다. 모델 안에 들어가는 순서를 보면 다음과 같습니다.\n",
    "\n",
    "- Flatten(input_shape=(28, 28) : 28x28 크기의 평면의 점으로 만들어진 사진을 784개의 일차원 직선 점 집합으로 변환합니다.\n",
    "- Dense(64, activation='relu') : 위의 과정을 통과한 후 64개 노드로 구성된 은닉층으로 들어갑니다. 은닉층의 활성 함수는 ReLU입니다.\n",
    "- Dense(64, activation='relu') : 위의 과정을 통과한 후 다시 한번 32개 노드로 구성된 은닉층으로 들어갑니다. 은닉층의 활성 함수는 ReLU입니다.\n",
    "- Dense(10, activation='softmax') : 위의 과정을 통과한 후 노드가 10개인 출력층으로 갑니다. 이때의 활성 함수는 softmax입니다.\n",
    "\n",
    "소프트맥스에 대해서는 아래에서 학습합니다.    \n",
    "`Dense(64, activation='relu')`안에 784*64개의 W값과 64개의 b 값에 대한 정보가 존재하고, `XW+b` 이후에 활성 함수 `f()`의 적용까지 포함됩니다.\n"
   ]
  },
  {
   "cell_type": "markdown",
   "metadata": {
    "id": "fi7dkwPIt65-"
   },
   "source": [
    "모델 구조를 파악하기 위해서 `model.summary()` 명령을 사용할 수 있습니다.\n",
    "\n",
    "신경망의 구조를 한 눈에 파악할 수 있습니다."
   ]
  },
  {
   "cell_type": "code",
   "execution_count": 8,
   "metadata": {
    "colab": {
     "base_uri": "https://localhost:8080/"
    },
    "executionInfo": {
     "elapsed": 725,
     "status": "ok",
     "timestamp": 1610072029156,
     "user": {
      "displayName": "처음코딩",
      "photoUrl": "https://lh3.googleusercontent.com/a-/AOh14GiTksPVKuVykyjKuchfwZ5dp6S489PBRL-Hy9FNzgo=s64",
      "userId": "04668354466670757110"
     },
     "user_tz": -540
    },
    "id": "AEGIuI_Ct14_",
    "outputId": "c0c49d81-885a-4af9-e16b-0372fbc11137"
   },
   "outputs": [
    {
     "name": "stdout",
     "output_type": "stream",
     "text": [
      "Model: \"sequential\"\n",
      "_________________________________________________________________\n",
      "Layer (type)                 Output Shape              Param #   \n",
      "=================================================================\n",
      "flatten (Flatten)            (None, 784)               0         \n",
      "_________________________________________________________________\n",
      "dense (Dense)                (None, 64)                50240     \n",
      "_________________________________________________________________\n",
      "dense_1 (Dense)              (None, 32)                2080      \n",
      "_________________________________________________________________\n",
      "dense_2 (Dense)              (None, 10)                330       \n",
      "=================================================================\n",
      "Total params: 52,650\n",
      "Trainable params: 52,650\n",
      "Non-trainable params: 0\n",
      "_________________________________________________________________\n"
     ]
    }
   ],
   "source": [
    "model.summary() "
   ]
  },
  {
   "cell_type": "markdown",
   "metadata": {
    "id": "ga5e3uGDshMt"
   },
   "source": [
    "모델을 컴파일합니다.    \n",
    "\n",
    "컴파일은 모델 학습을 진행하기 위해 필요한 신경망과 최적화 방법을 최종적으로 결정하는 단계입니다.    \n",
    "컴파일하면서 선택된 손실 함수와 최적화 방법이 결정됩니다. 손실 함수로는 `sparse_categorical_crossentropy`, 최적화 방법으로는 `adam`를 선택하고, 측정항목을 `metrics`에 넣습니다.   \n",
    "`adam` 최적화 방법은 2단원에서 자세히 다룹니다. \n",
    "\n",
    "\n",
    "텐서플로를 사용하는 기본적인 흐름은 다음과 같습니다.\n",
    "\n",
    "1. 모델 생성 : \n",
    "      - `Sequential()`을 이용하여 입력 노드, 출력 노드, 은닉 노드의 형태와 개수를 결정하고 활성 함수를 선택합니다.\n",
    "      \n",
    "      \n",
    "2. 모델 컴파일(compile) :\n",
    "      - 생성된 모델의 최적화 방법(`SGD`, `adam` 등)과 손실 함수 등을 결정합니다.\n",
    "      \n",
    "      \n",
    "3. 훈련(fit) :\n",
    "      - 훈련 데이터와 훈련 회수를 넣어 신경망을 훈련합니다."
   ]
  },
  {
   "cell_type": "code",
   "execution_count": 9,
   "metadata": {
    "colab": {
     "base_uri": "https://localhost:8080/"
    },
    "executionInfo": {
     "elapsed": 16179,
     "status": "ok",
     "timestamp": 1610072045738,
     "user": {
      "displayName": "처음코딩",
      "photoUrl": "https://lh3.googleusercontent.com/a-/AOh14GiTksPVKuVykyjKuchfwZ5dp6S489PBRL-Hy9FNzgo=s64",
      "userId": "04668354466670757110"
     },
     "user_tz": -540
    },
    "id": "QGSfJ0OEKj86",
    "outputId": "7ee9bd1d-206b-4b66-9ecf-aefdf650fab1"
   },
   "outputs": [
    {
     "name": "stdout",
     "output_type": "stream",
     "text": [
      "Epoch 1/5\n",
      "1875/1875 [==============================] - 3s 2ms/step - loss: 0.5240 - accuracy: 0.8494\n",
      "Epoch 2/5\n",
      "1875/1875 [==============================] - 3s 2ms/step - loss: 0.1409 - accuracy: 0.9586\n",
      "Epoch 3/5\n",
      "1875/1875 [==============================] - 3s 2ms/step - loss: 0.0980 - accuracy: 0.9698\n",
      "Epoch 4/5\n",
      "1875/1875 [==============================] - 3s 2ms/step - loss: 0.0706 - accuracy: 0.9789\n",
      "Epoch 5/5\n",
      "1875/1875 [==============================] - 3s 2ms/step - loss: 0.0589 - accuracy: 0.9814\n",
      "313/313 [==============================] - 0s 983us/step - loss: 0.0923 - accuracy: 0.9717\n"
     ]
    },
    {
     "data": {
      "text/plain": [
       "[0.0923105850815773, 0.9717000126838684]"
      ]
     },
     "execution_count": 9,
     "metadata": {
      "tags": []
     },
     "output_type": "execute_result"
    }
   ],
   "source": [
    "model.compile(optimizer='adam',\n",
    "              loss='sparse_categorical_crossentropy',\n",
    "              metrics=['accuracy'])\n",
    "\n",
    "model.fit(x_train, y_train, epochs=5)\n",
    "model.evaluate(x_test, y_test)"
   ]
  },
  {
   "cell_type": "markdown",
   "metadata": {
    "id": "ygnTEOyNKn4T"
   },
   "source": [
    "만들어진 모델을 컴파일하고(compile), 훈련합니다(fit). \n",
    "<br>훈련이 마쳐진 신경망이 제대로 작동하는 훈련 과정에 포함하지 않았던 검증용 데이터를 이용하여 검증합니다(evaluate).\n",
    "\n",
    "1 epoch은 전체 데이터를 모두 사용하는 양을 의미합니다. 즉, 6만 장의 사진으로 학습을 한다면 6만 장의 사진을 모두 한번 사용한 것을 1 epoch라고 합니다.    \n",
    "총 5 epoch 동안 학습이 진행되었고, 손실 값은 1회에서는 0.3 정도였던 값이 5회째에는 0.1 이하로 내려가는 것을 확인할 수 있습니다. accuracy는 0.97 정도가 나오고 있습니다. "
   ]
  },
  {
   "cell_type": "markdown",
   "metadata": {
    "id": "nVjdrSoNHJeT"
   },
   "source": [
    " "
   ]
  },
  {
   "cell_type": "markdown",
   "metadata": {
    "id": "Q9_V6D9VHJ2w"
   },
   "source": [
    "### 2. 소프트맥스(Softmax)와 항등함수"
   ]
  },
  {
   "cell_type": "markdown",
   "metadata": {
    "id": "xQJ4VeWbHvKC"
   },
   "source": [
    "#### 출력층의 활성 함수\n",
    "\n",
    "신경망의 출력층은 분류 문제를 다룰 때는 소프트맥스 함수를, 회귀 문제를 다룰 때는 항등함수를 사용합니다.    \n",
    "회귀(regression) 문제는 연속적인 신호에 대해 결과를 예측하는 문제입니다. 회귀의 경우 출력층에서 별도의 활성 함수를 사용하지 않고 항등함수를 사용합니다.\n",
    "\n",
    "##### 항등함수 \n",
    ">$$\n",
    "f(x) = x\n",
    "$$\n",
    "\n",
    "분류(classification) 문제는 개별 클래스에 속할 확률을 구하는 문제입니다. 그래서 최종적으로 나온 값을 다시 확률값으로 변환시키는 과정이 포함됩니다.    \n",
    "여기에 사용되는 활성 함수는 소프트맥스(softmax)입니다.\n",
    "\n",
    "##### 소프트맥스 함수 \n",
    ">$$ \n",
    "f(x_k)=\\frac {e^{(x_k)}} {\\sum_{i=1}^{N} \\; e^{(x_i)} } \\\\\n",
    "$$\n"
   ]
  },
  {
   "cell_type": "markdown",
   "metadata": {
    "id": "SlvyifHfLk2J"
   },
   "source": [
    "#### 항등함수\n",
    "\n"
   ]
  },
  {
   "cell_type": "markdown",
   "metadata": {
    "id": "ct_RmBYkMmS0"
   },
   "source": [
    "항등함수는 입력을 그대로 출력하는 함수입니다. "
   ]
  },
  {
   "cell_type": "code",
   "execution_count": null,
   "metadata": {
    "id": "MvQix7bkM4Vu"
   },
   "outputs": [],
   "source": [
    "def identity_function(x):\n",
    "    return x\n",
    "    "
   ]
  },
  {
   "cell_type": "code",
   "execution_count": null,
   "metadata": {
    "colab": {
     "base_uri": "https://localhost:8080/"
    },
    "executionInfo": {
     "elapsed": 19714,
     "status": "ok",
     "timestamp": 1608600772311,
     "user": {
      "displayName": "처음코딩",
      "photoUrl": "https://lh3.googleusercontent.com/a-/AOh14GiTksPVKuVykyjKuchfwZ5dp6S489PBRL-Hy9FNzgo=s64",
      "userId": "04668354466670757110"
     },
     "user_tz": -540
    },
    "id": "FmLSQOYLNAQj",
    "outputId": "7903ab95-3190-4d66-da36-b91f3feec327"
   },
   "outputs": [
    {
     "name": "stdout",
     "output_type": "stream",
     "text": [
      "[7.  0.1 2.5]\n"
     ]
    }
   ],
   "source": [
    "x = np.array([7.0, 0.1, 2.5])\n",
    "y = identity_function(x)\n",
    "print(y)"
   ]
  },
  {
   "cell_type": "markdown",
   "metadata": {
    "id": "cyP3yq2BQecj"
   },
   "source": [
    "#### 비례 확률 함수   \n",
    "\n",
    "출력층에 들어온 값을 확률값으로 만든다면 가장 먼저 생각할 수 있는 것은 비례식으로 확률값을 만드는 방법입니다.     \n",
    "다음과 같은 함수를 생각할 수 있습니다.\n",
    "\n",
    "##### 비례 확률 함수 \n",
    ">$$ \n",
    "\\begin{aligned}\n",
    "f(x_k)  &= \\frac {x_k} {\\sum_{all} \\; x_i } \\\\\n",
    "        &= \\frac {x_k} { x_1 +  x_2 +  x_3 + ... +  x_n } \\\\\n",
    "\\end{aligned}\n",
    "$$\n"
   ]
  },
  {
   "cell_type": "code",
   "execution_count": null,
   "metadata": {
    "id": "zYvJ-gGJWf1w"
   },
   "outputs": [],
   "source": [
    "def prop_function(x):\n",
    "    return (x/np.sum(x))\n"
   ]
  },
  {
   "cell_type": "code",
   "execution_count": null,
   "metadata": {
    "colab": {
     "base_uri": "https://localhost:8080/"
    },
    "executionInfo": {
     "elapsed": 19707,
     "status": "ok",
     "timestamp": 1608600772312,
     "user": {
      "displayName": "처음코딩",
      "photoUrl": "https://lh3.googleusercontent.com/a-/AOh14GiTksPVKuVykyjKuchfwZ5dp6S489PBRL-Hy9FNzgo=s64",
      "userId": "04668354466670757110"
     },
     "user_tz": -540
    },
    "id": "p7Q6WHCdbwcf",
    "outputId": "2045ed8f-526a-4663-b089-e25ac549e7dc"
   },
   "outputs": [
    {
     "name": "stdout",
     "output_type": "stream",
     "text": [
      "y =  [0.2 0.2 0.6]\n",
      "Sum of y =  1.0\n"
     ]
    }
   ],
   "source": [
    "x = np.array([1,1,3])\n",
    "y = prop_function(x)\n",
    "\n",
    "print('y = ', y)\n",
    "print('Sum of y = ', np.sum(y))"
   ]
  },
  {
   "cell_type": "markdown",
   "metadata": {
    "id": "bg6KHeZ9b9EO"
   },
   "source": [
    "#### 소프트맥스 \n",
    "\n",
    "비례 확률 함수는 실제로 사용되는 활성 함수는 아닙니다. 입력값은 비례로 계산하여 확률로 만들 수 있지만, 그보다 더 나은 활성 함수가 있습니다.    \n",
    "소프트맥스는 들어온 입력값을 지수함수로 만든 다음 비례로 처리해서 확률값을 만들어 줍니다.\n",
    "\n",
    "##### 소프트맥스 함수 \n",
    ">$$ \n",
    "\\begin{aligned}\n",
    "f(x_k) &= \\frac {e^{(x_k)}} {\\sum_{i=1}^{N} \\; e^{(x_i)} } \\\\[10pt]\n",
    "       &= \\frac {e^{x_k}} { e^{x_1} + e^{x_2} + e^{x_3} + ... + e^{x_n} } \\\\\n",
    "\\end{aligned}\n",
    "$$\n"
   ]
  },
  {
   "cell_type": "code",
   "execution_count": null,
   "metadata": {
    "id": "6mQVasvEdMig"
   },
   "outputs": [],
   "source": [
    "def softmax(x):\n",
    "    x = x - np.max(x)\n",
    "    return (np.exp(x) / np.sum(np.exp(x)))"
   ]
  },
  {
   "cell_type": "code",
   "execution_count": null,
   "metadata": {
    "colab": {
     "base_uri": "https://localhost:8080/"
    },
    "executionInfo": {
     "elapsed": 19698,
     "status": "ok",
     "timestamp": 1608600772313,
     "user": {
      "displayName": "처음코딩",
      "photoUrl": "https://lh3.googleusercontent.com/a-/AOh14GiTksPVKuVykyjKuchfwZ5dp6S489PBRL-Hy9FNzgo=s64",
      "userId": "04668354466670757110"
     },
     "user_tz": -540
    },
    "id": "_gW6IocGdYpg",
    "outputId": "15679e38-b573-4121-a022-9e262b082a94"
   },
   "outputs": [
    {
     "name": "stdout",
     "output_type": "stream",
     "text": [
      "y =  [0.10650698 0.10650698 0.78698604]\n",
      "Sum of y =  1.0\n"
     ]
    }
   ],
   "source": [
    "x = np.array([1,1,3])\n",
    "y = softmax(x)\n",
    "\n",
    "print('y = ', y)\n",
    "print('Sum of y = ', np.sum(y))"
   ]
  },
  {
   "cell_type": "markdown",
   "metadata": {
    "id": "cCi2e3Ryd2O5"
   },
   "source": [
    "`[1, 1, 3]`의 입력이 비례 확률 함수에서는 `[0.2, 0.2, 0.6]`으로 출력되었지만, 소프트맥스에서는 `[0.11, 0.11, 0.78]`로 출력되었습니다.    \n",
    "소프트맥스는 큰 값은 더 큰 비중을 주고, 작은 값은 더 작은 비중을 가지게 합니다. 이런 특징은 지수 함수 $f(x) = e^x$의 특징을 그대로 계승합니다.    \n",
    "`[1, 1, 3]`을 지수함수에 넣어보면 다음과 같습니다."
   ]
  },
  {
   "cell_type": "code",
   "execution_count": null,
   "metadata": {
    "colab": {
     "base_uri": "https://localhost:8080/",
     "height": 374
    },
    "executionInfo": {
     "elapsed": 20412,
     "status": "ok",
     "timestamp": 1608600773034,
     "user": {
      "displayName": "처음코딩",
      "photoUrl": "https://lh3.googleusercontent.com/a-/AOh14GiTksPVKuVykyjKuchfwZ5dp6S489PBRL-Hy9FNzgo=s64",
      "userId": "04668354466670757110"
     },
     "user_tz": -540
    },
    "id": "xJFdJ7O_jkgQ",
    "outputId": "db61ed2b-9be7-472e-8a22-30d0a9a02ef6"
   },
   "outputs": [
    {
     "data": {
      "image/png": "[encoded data removed]",
      "text/plain": [
       "<Figure size 720x432 with 1 Axes>"
      ]
     },
     "metadata": {
      "needs_background": "light",
      "tags": []
     },
     "output_type": "display_data"
    }
   ],
   "source": [
    "import matplotlib.pyplot as plt\n",
    "\n",
    "plt.figure(figsize=(10,6))\n",
    "\n",
    "x = np.arange(0.8, 3.2, 0.01)\n",
    "y = np.exp(x)\n",
    "plt.xlim(0.8,3.2)\n",
    "plt.grid()\n",
    "plt.plot(x,y)\n",
    "plt.plot([1, 3],[np.exp(1),np.exp(3)], 'bo', markersize=20)\n",
    "plt.show()"
   ]
  },
  {
   "cell_type": "code",
   "execution_count": null,
   "metadata": {
    "colab": {
     "base_uri": "https://localhost:8080/"
    },
    "executionInfo": {
     "elapsed": 20404,
     "status": "ok",
     "timestamp": 1608600773035,
     "user": {
      "displayName": "처음코딩",
      "photoUrl": "https://lh3.googleusercontent.com/a-/AOh14GiTksPVKuVykyjKuchfwZ5dp6S489PBRL-Hy9FNzgo=s64",
      "userId": "04668354466670757110"
     },
     "user_tz": -540
    },
    "id": "1wMRaTZhfgEO",
    "outputId": "536def8c-a6c6-44c2-f48f-33f64541e5b0"
   },
   "outputs": [
    {
     "name": "stdout",
     "output_type": "stream",
     "text": [
      "x = [1 1 3] \n",
      "exp(x) = [ 2.71828183  2.71828183 20.08553692]\n"
     ]
    }
   ],
   "source": [
    "x = np.array([1,1,3])\n",
    "y = np.exp(x)\n",
    "\n",
    "print('x =', x,'\\nexp(x) =', y)"
   ]
  },
  {
   "cell_type": "markdown",
   "metadata": {
    "id": "-JzqOmUPj7WT"
   },
   "source": [
    "입력 `[1, 1, 3]`은 지수 함수를 거치면 상대적으로 작은 값인 `1`은 `2.72`가 되고, 상대적으로 큰 값인 `3`은 `20.09`가 됩니다.\n",
    "이제 이 값을 이용해서 다시 비례 확률 함수를 사용하면 다음과 같습니다.\n",
    "\n"
   ]
  },
  {
   "cell_type": "code",
   "execution_count": null,
   "metadata": {
    "colab": {
     "base_uri": "https://localhost:8080/"
    },
    "executionInfo": {
     "elapsed": 20399,
     "status": "ok",
     "timestamp": 1608600773035,
     "user": {
      "displayName": "처음코딩",
      "photoUrl": "https://lh3.googleusercontent.com/a-/AOh14GiTksPVKuVykyjKuchfwZ5dp6S489PBRL-Hy9FNzgo=s64",
      "userId": "04668354466670757110"
     },
     "user_tz": -540
    },
    "id": "368kaFf0kaNs",
    "outputId": "1f911794-122f-497e-d20a-6d4b89051562"
   },
   "outputs": [
    {
     "name": "stdout",
     "output_type": "stream",
     "text": [
      "y =  [0.10650698 0.10650698 0.78698604]\n",
      "Sum of y =  1.0\n"
     ]
    }
   ],
   "source": [
    "x = np.array([1,1,3])\n",
    "h = np.exp(x)\n",
    "y = prop_function(h)\n",
    "\n",
    "print('y = ', y)\n",
    "print('Sum of y = ', np.sum(y))"
   ]
  },
  {
   "cell_type": "markdown",
   "metadata": {
    "id": "W4Hm5W-Ok0Ya"
   },
   "source": [
    "이 결과는 소프트맥스와 동일합니다. 소프트맥스는 지수함수를 통과한 결과를 비례 확률로 계산한 것입니다."
   ]
  },
  {
   "cell_type": "code",
   "execution_count": null,
   "metadata": {
    "colab": {
     "base_uri": "https://localhost:8080/"
    },
    "executionInfo": {
     "elapsed": 20394,
     "status": "ok",
     "timestamp": 1608600773036,
     "user": {
      "displayName": "처음코딩",
      "photoUrl": "https://lh3.googleusercontent.com/a-/AOh14GiTksPVKuVykyjKuchfwZ5dp6S489PBRL-Hy9FNzgo=s64",
      "userId": "04668354466670757110"
     },
     "user_tz": -540
    },
    "id": "-pqeuAjEk4Nt",
    "outputId": "968f0395-423a-4e28-e674-d985ee18cbf7"
   },
   "outputs": [
    {
     "name": "stdout",
     "output_type": "stream",
     "text": [
      "y =  [0.10650698 0.10650698 0.78698604]\n",
      "Sum of y =  1.0\n"
     ]
    }
   ],
   "source": [
    "x = np.array([1,1,3])\n",
    "y = softmax(x)\n",
    "\n",
    "print('y = ', y)\n",
    "print('Sum of y = ', np.sum(y))"
   ]
  },
  {
   "cell_type": "markdown",
   "metadata": {
    "id": "HmVp9vJfXGQf"
   },
   "source": [
    " "
   ]
  },
  {
   "cell_type": "markdown",
   "metadata": {
    "id": "ujBCYuR6WZwB"
   },
   "source": [
    "### 3. 손실 함수\n"
   ]
  },
  {
   "cell_type": "markdown",
   "metadata": {
    "id": "JD08nDALXQ95"
   },
   "source": [
    "#### 손실 함수란?\n",
    "\n",
    "만들어진 신경망의 성능을 평가해야 합니다. 개선 중인 신경망의 현재 상태를 표시하는 지표가 필요합니다.   \n",
    "일반적으로 신경망의 성능을 표시하는 지표로 두 가지가 있습니다. 첫 번째는 정확도(accuracy)이고, 두 번째는 손실 정도(loss value)입니다.\n",
    "\n",
    "**정확도**는 얼마나 정확하게 값을 예측하는가를 의미합니다.     \n",
    "100장의 사진 속 글씨를 예측했을 때 90장을 맞췄다면 정확도는 90%가 됩니다.    \n",
    "이때는 사진 속 글씨가 1일 확률이 51%거나 혹은 99%거나 상관없습니다. 심지어 1일 확률이 19%이고, 나머지가 9%일 수도 있습니다. 모두 정확도로 계산하면 같은 결과가 나옵니다. \n",
    "즉, 51%의 확률값으로 90장의 사진을 맞췄을 때와 99%의 확률값으로 90장의 맞췄을 때 같은 정확도를 보인다고 말할 수 있습니다.\n",
    "\n",
    "**손실 정도**는 최종 결과에서 확률값이 얼마나 정답에 가까운지를 나타냅니다.     \n",
    "예를 들어 0에서 9까지의 10개의 확률값이 신경망을 거치면서 나오게 됩니다. 1일 확률값이 51%인 경우와 99%인 경우에 대해서 살펴봅시다.\n",
    "정답은 1이라면 두 경우 모두 정답을 맞혔기 때문에 같은 정확도를 보이게 됩니다. 하지만 정답은 1일 확률이 100%여야 하는데 실제 신경망을 통해 나온 결과가 51%라면 여기서 49%P만큼 정답과 신경망의 결과가 차이가 있음을 알 수 있습니다. 이 차이를 '손실(loss)' 값으로 하고 손실 값을 작게 만드는 방향으로 기계 학습을 진행합니다. \n",
    "\n",
    "\n",
    "정확도는 쉽게 변하지 않는 지표이고, 그래서 정확도를 이용한 학습은 한계가 있습니다. 그래서 보편적으로 기계 학습에서는 정확도 대신 손실 정도를 이용한 학습이 진행됩니다. \n",
    "\n",
    "\n"
   ]
  },
  {
   "cell_type": "markdown",
   "metadata": {
    "id": "0pS1GyNTxKoe"
   },
   "source": [
    "#### 평균 제곱 오차(MSE, Mean Squared Error)\n",
    "\n",
    "많이 쓰이는 오차 함수로 평균 제곱 오차가 있습니다.    \n",
    "평균 제곱 오차의 수식은 다음과 같습니다.\n",
    "\n",
    "\n",
    "##### 평균 제곱 오차 수식\n",
    "\n",
    "> $$\n",
    "E = { 1 \\over N } \\sum_{i=1}^{N} \\; (y_i -t_i)^2\n",
    "$$"
   ]
  },
  {
   "cell_type": "markdown",
   "metadata": {
    "id": "N3tqkbg-zj6Q"
   },
   "source": [
    "$y_i$는 신경망의 출력이고, $t_i$는 정답 레이블입니다. 예를 들어 3종의 품종을 가진 iris 데이터를 이용한 신경망 출력 결과가 소프트맥스를 통과한 후 다음과 같다고 가정하겠습니다.    \n",
    "\n",
    ">$$\n",
    "y = [0.08, \\;\\; 0.54, \\;\\; 0.38]   \\\\\n",
    "t = [0.00, \\;\\; 1.00, \\;\\; 0.00]\n",
    "$$\n",
    "\n"
   ]
  },
  {
   "cell_type": "markdown",
   "metadata": {
    "id": "s2kC3jGhjJhd"
   },
   "source": [
    "위의 경우에 대한 평균 제곱 오차를 구해보겠습니다.     \n",
    "평균 제곱 오차 함수는 다음과 같습니다. "
   ]
  },
  {
   "cell_type": "code",
   "execution_count": null,
   "metadata": {
    "id": "Yu6i6PzdQ2fV"
   },
   "outputs": [],
   "source": [
    "def mse(t, y):\n",
    "    return np.sum((y-t)**2) / len(y)\n",
    "    "
   ]
  },
  {
   "cell_type": "markdown",
   "metadata": {
    "id": "A5umeW-p4NTV"
   },
   "source": [
    "위에서 만든 mse() 함수 대신 텐서플로에 내장되어 있는 `MeanSquaredError()` 함수를 사용할 수 있습니다."
   ]
  },
  {
   "cell_type": "code",
   "execution_count": null,
   "metadata": {
    "id": "TFeTDo8Q10Aq"
   },
   "outputs": [],
   "source": [
    "import tensorflow as tf\n",
    "\n",
    "tf_mse = tf.keras.losses.MeanSquaredError()\n"
   ]
  },
  {
   "cell_type": "markdown",
   "metadata": {
    "id": "hT-buub1GWmV"
   },
   "source": [
    "mse() 와 tf_mse() 를 사용해 같은 결과가 나오는지 확인해 보겠습니다."
   ]
  },
  {
   "cell_type": "code",
   "execution_count": null,
   "metadata": {
    "colab": {
     "base_uri": "https://localhost:8080/"
    },
    "executionInfo": {
     "elapsed": 20385,
     "status": "ok",
     "timestamp": 1608600773037,
     "user": {
      "displayName": "처음코딩",
      "photoUrl": "https://lh3.googleusercontent.com/a-/AOh14GiTksPVKuVykyjKuchfwZ5dp6S489PBRL-Hy9FNzgo=s64",
      "userId": "04668354466670757110"
     },
     "user_tz": -540
    },
    "id": "BVzZKYX12j8n",
    "outputId": "392eb68f-c87b-418f-d354-2d0e7fc14fb2"
   },
   "outputs": [
    {
     "name": "stdout",
     "output_type": "stream",
     "text": [
      "MSE = 0.12079999999999998\n",
      "TF.MSE = 0.12080000340938568\n"
     ]
    }
   ],
   "source": [
    "y = np.array([0.08, 0.54, 0.38])\n",
    "t = np.array([0.00, 1.00, 0.00])\n",
    "\n",
    "print('MSE =', mse(t,y))\n",
    "print('TF.MSE =', tf_mse(t, y).numpy())\n"
   ]
  },
  {
   "cell_type": "markdown",
   "metadata": {
    "id": "N6DMs6cNxIjP"
   },
   "source": [
    "#### 교차 엔트로피 오차\n",
    "\n",
    "일반적으로 많이 사용되는 평균 제곱 오차와 함께 신경망에서 많이 사용되는 교차 엔트로피 오차(Cross Entropy Error)가 있습니다.    \n",
    "교차 엔트로피 오차의 수식은 다음과 같습니다.\n",
    "\n",
    "##### 교차 엔트로피 오차 수식\n",
    "\n",
    "> $$\n",
    "E = -  \\sum_{i=1}^{N} \\; t_i \\log y_i\n",
    "$$\n"
   ]
  },
  {
   "cell_type": "markdown",
   "metadata": {
    "id": "5I-Fwdwd6jM_"
   },
   "source": [
    "교차 엔트로피 오차 수식의 `log`는 밑이 `e`인 자연로그입니다.   \n",
    "정답 레이블인 $t_i$는 [0, 1, 0, 0, 0, 0]처럼 하나의 값만 1이고, 나머지는 0입니다. 교차 엔트로피 오차 E의 값은 신경망을 통과한 값 중 정답과 관계없는 값들은 모두 무시되고, 정답과 같은 위치로 나온 값만이 log를 취한 후 부호가 반전되어 만들어집니다.\n",
    "\n"
   ]
  },
  {
   "cell_type": "code",
   "execution_count": null,
   "metadata": {
    "colab": {
     "base_uri": "https://localhost:8080/"
    },
    "executionInfo": {
     "elapsed": 20380,
     "status": "ok",
     "timestamp": 1608600773037,
     "user": {
      "displayName": "처음코딩",
      "photoUrl": "https://lh3.googleusercontent.com/a-/AOh14GiTksPVKuVykyjKuchfwZ5dp6S489PBRL-Hy9FNzgo=s64",
      "userId": "04668354466670757110"
     },
     "user_tz": -540
    },
    "id": "vT8Rr_XqWGVL",
    "outputId": "4ad107e0-70f1-4d38-e92e-99d157bde858"
   },
   "outputs": [
    {
     "name": "stdout",
     "output_type": "stream",
     "text": [
      "0.616186139423817\n"
     ]
    }
   ],
   "source": [
    "# 교차 엔트로피 오차\n",
    "\n",
    "y = np.array([0.08, 0.54, 0.38])\n",
    "t = np.array([0, 1, 0])\n",
    "\n",
    "E = - (t[0]*np.log(y[0]) + t[1]*np.log(y[1]) + t[2]*np.log(y[2]))\n",
    "print(E)"
   ]
  },
  {
   "cell_type": "markdown",
   "metadata": {
    "id": "n8xWd7b58IB2"
   },
   "source": [
    "인덱스 0번과 2번의 정답 레이블에 있는 값이 0이므로 첫 번째와 세 번째 항을 제거해도 같은 결과가 나옵니다."
   ]
  },
  {
   "cell_type": "code",
   "execution_count": null,
   "metadata": {
    "colab": {
     "base_uri": "https://localhost:8080/"
    },
    "executionInfo": {
     "elapsed": 20376,
     "status": "ok",
     "timestamp": 1608600773038,
     "user": {
      "displayName": "처음코딩",
      "photoUrl": "https://lh3.googleusercontent.com/a-/AOh14GiTksPVKuVykyjKuchfwZ5dp6S489PBRL-Hy9FNzgo=s64",
      "userId": "04668354466670757110"
     },
     "user_tz": -540
    },
    "id": "yywr5gfY8IVi",
    "outputId": "5c28802f-f6af-40ad-8b95-ccff6163fe92"
   },
   "outputs": [
    {
     "name": "stdout",
     "output_type": "stream",
     "text": [
      "0.616186139423817\n"
     ]
    }
   ],
   "source": [
    "E = - (t[1]*np.log(y[1]))\n",
    "print(E)"
   ]
  },
  {
   "cell_type": "markdown",
   "metadata": {
    "id": "2KhKxEZj8Zz1"
   },
   "source": [
    "교차 엔트로피 오차 함수는 다음과 같이 만들 수 있습니다.   \n",
    "`log` 함수는 `0`에서 `-inf` 값을 가지므로 입력이 `0`이 들어오더라도 `1e-5(=0.00001)` 정도의 작은 값을 가지도록 보정해 줍니다."
   ]
  },
  {
   "cell_type": "code",
   "execution_count": null,
   "metadata": {
    "id": "itMe6Yy5znWW"
   },
   "outputs": [],
   "source": [
    "def cee(t, y):\n",
    "    h = 1e-5\n",
    "    return -np.sum(t*np.log(y+h))\n"
   ]
  },
  {
   "cell_type": "code",
   "execution_count": null,
   "metadata": {
    "colab": {
     "base_uri": "https://localhost:8080/"
    },
    "executionInfo": {
     "elapsed": 20370,
     "status": "ok",
     "timestamp": 1608600773039,
     "user": {
      "displayName": "처음코딩",
      "photoUrl": "https://lh3.googleusercontent.com/a-/AOh14GiTksPVKuVykyjKuchfwZ5dp6S489PBRL-Hy9FNzgo=s64",
      "userId": "04668354466670757110"
     },
     "user_tz": -540
    },
    "id": "0HBmMubb9hEf",
    "outputId": "edb4d672-40b3-4fe6-e597-dd10945b5f39"
   },
   "outputs": [
    {
     "name": "stdout",
     "output_type": "stream",
     "text": [
      "0.6161676210767641\n"
     ]
    }
   ],
   "source": [
    "y = np.array([0.08, 0.54, 0.38])\n",
    "t = np.array([0, 1, 0])\n",
    "\n",
    "result = cee(t,y)\n",
    "print(result)"
   ]
  },
  {
   "cell_type": "markdown",
   "metadata": {
    "id": "Q5qVGEkn-EUI"
   },
   "source": [
    "교차 엔트로피 오차를 이해하기 위해 `-log(x)` 그래프를 그려보겠습니다.\n"
   ]
  },
  {
   "cell_type": "code",
   "execution_count": null,
   "metadata": {
    "colab": {
     "base_uri": "https://localhost:8080/",
     "height": 269
    },
    "executionInfo": {
     "elapsed": 20365,
     "status": "ok",
     "timestamp": 1608600773039,
     "user": {
      "displayName": "처음코딩",
      "photoUrl": "https://lh3.googleusercontent.com/a-/AOh14GiTksPVKuVykyjKuchfwZ5dp6S489PBRL-Hy9FNzgo=s64",
      "userId": "04668354466670757110"
     },
     "user_tz": -540
    },
    "id": "vPqs_mUv-Cw_",
    "outputId": "3f58e076-131f-4719-bfbd-becdffe0ede2"
   },
   "outputs": [
    {
     "data": {
      "image/png": "[encoded data removed]",
      "text/plain": [
       "<Figure size 432x288 with 1 Axes>"
      ]
     },
     "metadata": {
      "needs_background": "light",
      "tags": []
     },
     "output_type": "display_data"
    }
   ],
   "source": [
    "import matplotlib.pyplot as plt\n",
    "import numpy as np\n",
    "\n",
    "h = 1e-5\n",
    "x = np.arange(0, 1.1,0.01)\n",
    "y = -np.log(x+h)\n",
    "plt.ylim(0,5)\n",
    "\n",
    "plt.plot(x,y)\n",
    "plt.plot([0.1, 0.5, 0.9],[-np.log(0.1+h),-np.log(0.5+h),-np.log(0.9+h)], 'o', markersize=10)\n",
    "plt.grid()\n",
    "plt.show()\n"
   ]
  },
  {
   "cell_type": "markdown",
   "metadata": {
    "id": "fM_blCCIAPfz"
   },
   "source": [
    "0부터 1.0까지 0.2 간격으로 입력값에 따른 교차 엔트로피 오차의 값 `-log(x)`의 값은 다음과 같습니다."
   ]
  },
  {
   "cell_type": "code",
   "execution_count": null,
   "metadata": {
    "colab": {
     "base_uri": "https://localhost:8080/"
    },
    "executionInfo": {
     "elapsed": 20359,
     "status": "ok",
     "timestamp": 1608600773039,
     "user": {
      "displayName": "처음코딩",
      "photoUrl": "https://lh3.googleusercontent.com/a-/AOh14GiTksPVKuVykyjKuchfwZ5dp6S489PBRL-Hy9FNzgo=s64",
      "userId": "04668354466670757110"
     },
     "user_tz": -540
    },
    "id": "bY4K2rqSAg4j",
    "outputId": "7c4c01ec-9fb9-4eb4-f831-f68077eafb52"
   },
   "outputs": [
    {
     "name": "stdout",
     "output_type": "stream",
     "text": [
      "x = [0.  0.1 0.2 0.3 0.4 0.5 0.6 0.7 0.8 0.9 1. ]\n",
      "y = [11.513  2.302  1.609  1.204  0.916  0.693  0.511  0.357  0.223  0.105\n",
      " -0.   ]\n"
     ]
    }
   ],
   "source": [
    "x = np.arange(0,1.1,0.1)\n",
    "x = x + 1e-5\n",
    "y = -np.log(x)\n",
    "\n",
    "print('x =', np.round_(x,4))\n",
    "print('y =', np.round_(y,3))"
   ]
  },
  {
   "cell_type": "markdown",
   "metadata": {
    "id": "Wg0s0OwhC997"
   },
   "source": [
    "위의 결과를 해석하면 다음과 같습니다.\n",
    "\n",
    "- 정답에 접근하지 못했을 때 손실 값 : 11.513 (ex, $y_1$=0, $t_1$=1 일 때)\n",
    "- 정답 확률이 10%일 때 손실 값 : 2.302 (ex, $y_1$=0.1, $t_1$=1 일 때)\n",
    "- 정답 확률이 50%일 때 손실 값 : 0.693 (ex, $y_1$=0.5, $t_1$=1 일 때)\n",
    "- 정답 확률이 90%일 때 손실 값 : 0.105 (ex, $y_1$=0.9, $t_1$=1 일 때)"
   ]
  },
  {
   "cell_type": "markdown",
   "metadata": {
    "id": "toy2Lr9xFFWi"
   },
   "source": [
    "학습은 W와 b 값을 변화시키며 진행됩니다.     \n",
    "매번 학습이 진행될 때마다 신경망은 '손실' 값을 측정하고 손실 값이 작아지는 방향으로 학습을 진행하게 됩니다."
   ]
  },
  {
   "cell_type": "markdown",
   "metadata": {
    "id": "qXFF0x40jcwz"
   },
   "source": [
    "---"
   ]
  },
  {
   "cell_type": "markdown",
   "metadata": {
    "id": "8_0gk0ypjGs1"
   },
   "source": [
    "<span style=\"color:rgb(120, 120, 120)\">본 학습 자료를 포함한 사이트 내 모든 자료의 저작권은 엘리스에 있으며 외부로의 무단 복제, 배포 및 전송을 불허합니다.\n",
    "\n",
    "Copyright @ elice all rights reserved</span>"
   ]
  }
 ],
 "metadata": {
  "colab": {
   "authorship_tag": "ABX9TyM4Q+A8KDaVuGfItD5zOka7",
   "collapsed_sections": [],
   "name": "L1_3_얕은신경망_소프트맥스_손실함수_20210108.ipynb",
   "provenance": [],
   "toc_visible": true
  },
  "kernelspec": {
   "display_name": "Python 3",
   "language": "python",
   "name": "python3"
  },
  "language_info": {
   "codemirror_mode": {
    "name": "ipython",
    "version": 3
   },
   "file_extension": ".py",
   "mimetype": "text/x-python",
   "name": "python",
   "nbconvert_exporter": "python",
   "pygments_lexer": "ipython3",
   "version": "3.8.6"
  },
  "toc": {
   "base_numbering": 1,
   "nav_menu": {},
   "number_sections": false,
   "sideBar": true,
   "skip_h1_title": false,
   "title_cell": "Table of Contents",
   "title_sidebar": "Contents",
   "toc_cell": false,
   "toc_position": {},
   "toc_section_display": true,
   "toc_window_display": true
  }
 },
 "nbformat": 4,
 "nbformat_minor": 1
}
